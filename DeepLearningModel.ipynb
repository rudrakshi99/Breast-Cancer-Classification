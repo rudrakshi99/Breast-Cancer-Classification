{
  "nbformat": 4,
  "nbformat_minor": 0,
  "metadata": {
    "colab": {
      "provenance": []
    },
    "kernelspec": {
      "name": "python3",
      "display_name": "Python 3"
    },
    "language_info": {
      "name": "python"
    }
  },
  "cells": [
    {
      "cell_type": "code",
      "execution_count": 1,
      "metadata": {
        "id": "eyXkLRec22Oa"
      },
      "outputs": [],
      "source": [
        "import pandas as pd\n",
        "import numpy as np\n",
        "import matplotlib.pyplot as plt\n",
        "import seaborn as sns\n",
        "\n",
        "# Importing data\n",
        "data = pd.read_csv('/content/data.csv')\n",
        "del data['Unnamed: 32']"
      ]
    },
    {
      "cell_type": "code",
      "source": [
        "X = data.iloc[:, 2:].values\n",
        "y = data.iloc[:, 1].values\n",
        "\n",
        "# Encoding categorical data\n",
        "from sklearn.preprocessing import LabelEncoder\n",
        "labelencoder_X_1 = LabelEncoder()\n",
        "y = labelencoder_X_1.fit_transform(y)\n",
        "\n",
        "# Splitting the dataset into the Training set and Test set\n",
        "from sklearn.model_selection import train_test_split\n",
        "X_train, X_test, y_train, y_test = train_test_split(X, y, test_size = 0.1, random_state = 0)\n",
        "\n",
        "#Feature Scaling\n",
        "from sklearn.preprocessing import StandardScaler\n",
        "sc = StandardScaler()\n",
        "X_train = sc.fit_transform(X_train)\n",
        "X_test = sc.transform(X_test)\n"
      ],
      "metadata": {
        "id": "8B2W7sII3AH-"
      },
      "execution_count": 2,
      "outputs": []
    },
    {
      "cell_type": "code",
      "source": [
        "import keras\n",
        "from keras.models import Sequential\n",
        "from keras.layers import Dense, Dropout"
      ],
      "metadata": {
        "id": "tclySTb53AuC"
      },
      "execution_count": 3,
      "outputs": []
    },
    {
      "cell_type": "code",
      "source": [
        "classifier = Sequential()"
      ],
      "metadata": {
        "id": "6G_rjCvk3D76"
      },
      "execution_count": 4,
      "outputs": []
    },
    {
      "cell_type": "code",
      "source": [
        "# Adding the input layer and the first hidden layer\n",
        "classifier.add(Dense(units=16, kernel_initializer='uniform', activation='relu', input_dim=30))\n",
        "\n",
        "# Adding dropout to prevent overfitting\n",
        "classifier.add(Dropout(0.1))"
      ],
      "metadata": {
        "id": "sejt_9rc3H-C"
      },
      "execution_count": 5,
      "outputs": []
    },
    {
      "cell_type": "code",
      "source": [
        "# Adding the second hidden layer\n",
        "classifier.add(Dense(units=16, kernel_initializer='uniform', activation='relu'))\n",
        "# Adding dropout to prevent overfitting\n",
        "classifier.add(Dropout(0.1))"
      ],
      "metadata": {
        "id": "VH4blJaK3KFR"
      },
      "execution_count": 6,
      "outputs": []
    },
    {
      "cell_type": "code",
      "source": [
        "# Adding the output layer\n",
        "classifier.add(Dense(units=1, kernel_initializer='uniform', activation='sigmoid'))"
      ],
      "metadata": {
        "id": "012D0zbJ3QAA"
      },
      "execution_count": 8,
      "outputs": []
    },
    {
      "cell_type": "code",
      "source": [
        "# Compiling the ANN\n",
        "classifier.compile(optimizer='adam', loss='binary_crossentropy', metrics=['accuracy'])"
      ],
      "metadata": {
        "id": "NHIVOZPo3TIB"
      },
      "execution_count": 9,
      "outputs": []
    },
    {
      "cell_type": "code",
      "source": [
        "# Fitting the ANN to the Training set\n",
        "classifier.fit(X_train, y_train, batch_size=100, epochs=150)\n",
        "# Long scroll ahead but worth\n",
        "# The batch size and number of epochs have been set using trial and error. Still looking for more efficient ways. Open to suggestions. "
      ],
      "metadata": {
        "colab": {
          "base_uri": "https://localhost:8080/"
        },
        "id": "DxkHkmaB3WQz",
        "outputId": "3dd6e50f-5992-471f-e7a9-619f82f1bfd1"
      },
      "execution_count": 10,
      "outputs": [
        {
          "output_type": "stream",
          "name": "stdout",
          "text": [
            "Epoch 1/150\n",
            "6/6 [==============================] - 1s 4ms/step - loss: 0.6927 - accuracy: 0.6270\n",
            "Epoch 2/150\n",
            "6/6 [==============================] - 0s 3ms/step - loss: 0.6910 - accuracy: 0.6621\n",
            "Epoch 3/150\n",
            "6/6 [==============================] - 0s 3ms/step - loss: 0.6881 - accuracy: 0.6895\n",
            "Epoch 4/150\n",
            "6/6 [==============================] - 0s 3ms/step - loss: 0.6835 - accuracy: 0.7715\n",
            "Epoch 5/150\n",
            "6/6 [==============================] - 0s 3ms/step - loss: 0.6756 - accuracy: 0.8613\n",
            "Epoch 6/150\n",
            "6/6 [==============================] - 0s 4ms/step - loss: 0.6629 - accuracy: 0.9160\n",
            "Epoch 7/150\n",
            "6/6 [==============================] - 0s 4ms/step - loss: 0.6441 - accuracy: 0.9297\n",
            "Epoch 8/150\n",
            "6/6 [==============================] - 0s 3ms/step - loss: 0.6183 - accuracy: 0.9355\n",
            "Epoch 9/150\n",
            "6/6 [==============================] - 0s 3ms/step - loss: 0.5842 - accuracy: 0.9453\n",
            "Epoch 10/150\n",
            "6/6 [==============================] - 0s 3ms/step - loss: 0.5401 - accuracy: 0.9414\n",
            "Epoch 11/150\n",
            "6/6 [==============================] - 0s 3ms/step - loss: 0.4903 - accuracy: 0.9473\n",
            "Epoch 12/150\n",
            "6/6 [==============================] - 0s 3ms/step - loss: 0.4334 - accuracy: 0.9414\n",
            "Epoch 13/150\n",
            "6/6 [==============================] - 0s 3ms/step - loss: 0.3835 - accuracy: 0.9375\n",
            "Epoch 14/150\n",
            "6/6 [==============================] - 0s 3ms/step - loss: 0.3277 - accuracy: 0.9434\n",
            "Epoch 15/150\n",
            "6/6 [==============================] - 0s 3ms/step - loss: 0.2845 - accuracy: 0.9473\n",
            "Epoch 16/150\n",
            "6/6 [==============================] - 0s 3ms/step - loss: 0.2432 - accuracy: 0.9512\n",
            "Epoch 17/150\n",
            "6/6 [==============================] - 0s 3ms/step - loss: 0.2166 - accuracy: 0.9531\n",
            "Epoch 18/150\n",
            "6/6 [==============================] - 0s 3ms/step - loss: 0.1941 - accuracy: 0.9590\n",
            "Epoch 19/150\n",
            "6/6 [==============================] - 0s 3ms/step - loss: 0.1739 - accuracy: 0.9609\n",
            "Epoch 20/150\n",
            "6/6 [==============================] - 0s 3ms/step - loss: 0.1635 - accuracy: 0.9648\n",
            "Epoch 21/150\n",
            "6/6 [==============================] - 0s 3ms/step - loss: 0.1494 - accuracy: 0.9648\n",
            "Epoch 22/150\n",
            "6/6 [==============================] - 0s 3ms/step - loss: 0.1364 - accuracy: 0.9668\n",
            "Epoch 23/150\n",
            "6/6 [==============================] - 0s 3ms/step - loss: 0.1298 - accuracy: 0.9688\n",
            "Epoch 24/150\n",
            "6/6 [==============================] - 0s 3ms/step - loss: 0.1252 - accuracy: 0.9727\n",
            "Epoch 25/150\n",
            "6/6 [==============================] - 0s 3ms/step - loss: 0.1133 - accuracy: 0.9707\n",
            "Epoch 26/150\n",
            "6/6 [==============================] - 0s 3ms/step - loss: 0.1109 - accuracy: 0.9707\n",
            "Epoch 27/150\n",
            "6/6 [==============================] - 0s 4ms/step - loss: 0.1026 - accuracy: 0.9727\n",
            "Epoch 28/150\n",
            "6/6 [==============================] - 0s 3ms/step - loss: 0.1043 - accuracy: 0.9766\n",
            "Epoch 29/150\n",
            "6/6 [==============================] - 0s 3ms/step - loss: 0.0948 - accuracy: 0.9727\n",
            "Epoch 30/150\n",
            "6/6 [==============================] - 0s 3ms/step - loss: 0.0943 - accuracy: 0.9727\n",
            "Epoch 31/150\n",
            "6/6 [==============================] - 0s 3ms/step - loss: 0.0910 - accuracy: 0.9824\n",
            "Epoch 32/150\n",
            "6/6 [==============================] - 0s 3ms/step - loss: 0.0919 - accuracy: 0.9785\n",
            "Epoch 33/150\n",
            "6/6 [==============================] - 0s 3ms/step - loss: 0.0890 - accuracy: 0.9785\n",
            "Epoch 34/150\n",
            "6/6 [==============================] - 0s 3ms/step - loss: 0.0859 - accuracy: 0.9785\n",
            "Epoch 35/150\n",
            "6/6 [==============================] - 0s 3ms/step - loss: 0.0867 - accuracy: 0.9805\n",
            "Epoch 36/150\n",
            "6/6 [==============================] - 0s 3ms/step - loss: 0.0842 - accuracy: 0.9785\n",
            "Epoch 37/150\n",
            "6/6 [==============================] - 0s 3ms/step - loss: 0.0826 - accuracy: 0.9785\n",
            "Epoch 38/150\n",
            "6/6 [==============================] - 0s 3ms/step - loss: 0.0802 - accuracy: 0.9785\n",
            "Epoch 39/150\n",
            "6/6 [==============================] - 0s 3ms/step - loss: 0.0767 - accuracy: 0.9785\n",
            "Epoch 40/150\n",
            "6/6 [==============================] - 0s 3ms/step - loss: 0.0797 - accuracy: 0.9766\n",
            "Epoch 41/150\n",
            "6/6 [==============================] - 0s 3ms/step - loss: 0.0727 - accuracy: 0.9785\n",
            "Epoch 42/150\n",
            "6/6 [==============================] - 0s 3ms/step - loss: 0.0721 - accuracy: 0.9824\n",
            "Epoch 43/150\n",
            "6/6 [==============================] - 0s 3ms/step - loss: 0.0748 - accuracy: 0.9805\n",
            "Epoch 44/150\n",
            "6/6 [==============================] - 0s 3ms/step - loss: 0.0740 - accuracy: 0.9785\n",
            "Epoch 45/150\n",
            "6/6 [==============================] - 0s 3ms/step - loss: 0.0710 - accuracy: 0.9824\n",
            "Epoch 46/150\n",
            "6/6 [==============================] - 0s 3ms/step - loss: 0.0738 - accuracy: 0.9805\n",
            "Epoch 47/150\n",
            "6/6 [==============================] - 0s 3ms/step - loss: 0.0673 - accuracy: 0.9844\n",
            "Epoch 48/150\n",
            "6/6 [==============================] - 0s 3ms/step - loss: 0.0688 - accuracy: 0.9844\n",
            "Epoch 49/150\n",
            "6/6 [==============================] - 0s 4ms/step - loss: 0.0669 - accuracy: 0.9844\n",
            "Epoch 50/150\n",
            "6/6 [==============================] - 0s 3ms/step - loss: 0.0680 - accuracy: 0.9844\n",
            "Epoch 51/150\n",
            "6/6 [==============================] - 0s 3ms/step - loss: 0.0652 - accuracy: 0.9844\n",
            "Epoch 52/150\n",
            "6/6 [==============================] - 0s 3ms/step - loss: 0.0637 - accuracy: 0.9863\n",
            "Epoch 53/150\n",
            "6/6 [==============================] - 0s 3ms/step - loss: 0.0638 - accuracy: 0.9863\n",
            "Epoch 54/150\n",
            "6/6 [==============================] - 0s 3ms/step - loss: 0.0571 - accuracy: 0.9863\n",
            "Epoch 55/150\n",
            "6/6 [==============================] - 0s 3ms/step - loss: 0.0604 - accuracy: 0.9844\n",
            "Epoch 56/150\n",
            "6/6 [==============================] - 0s 3ms/step - loss: 0.0622 - accuracy: 0.9863\n",
            "Epoch 57/150\n",
            "6/6 [==============================] - 0s 3ms/step - loss: 0.0609 - accuracy: 0.9863\n",
            "Epoch 58/150\n",
            "6/6 [==============================] - 0s 3ms/step - loss: 0.0644 - accuracy: 0.9844\n",
            "Epoch 59/150\n",
            "6/6 [==============================] - 0s 3ms/step - loss: 0.0595 - accuracy: 0.9863\n",
            "Epoch 60/150\n",
            "6/6 [==============================] - 0s 3ms/step - loss: 0.0639 - accuracy: 0.9863\n",
            "Epoch 61/150\n",
            "6/6 [==============================] - 0s 3ms/step - loss: 0.0565 - accuracy: 0.9844\n",
            "Epoch 62/150\n",
            "6/6 [==============================] - 0s 3ms/step - loss: 0.0625 - accuracy: 0.9863\n",
            "Epoch 63/150\n",
            "6/6 [==============================] - 0s 3ms/step - loss: 0.0602 - accuracy: 0.9863\n",
            "Epoch 64/150\n",
            "6/6 [==============================] - 0s 3ms/step - loss: 0.0614 - accuracy: 0.9863\n",
            "Epoch 65/150\n",
            "6/6 [==============================] - 0s 3ms/step - loss: 0.0584 - accuracy: 0.9844\n",
            "Epoch 66/150\n",
            "6/6 [==============================] - 0s 3ms/step - loss: 0.0597 - accuracy: 0.9863\n",
            "Epoch 67/150\n",
            "6/6 [==============================] - 0s 3ms/step - loss: 0.0546 - accuracy: 0.9863\n",
            "Epoch 68/150\n",
            "6/6 [==============================] - 0s 3ms/step - loss: 0.0564 - accuracy: 0.9863\n",
            "Epoch 69/150\n",
            "6/6 [==============================] - 0s 3ms/step - loss: 0.0537 - accuracy: 0.9863\n",
            "Epoch 70/150\n",
            "6/6 [==============================] - 0s 3ms/step - loss: 0.0577 - accuracy: 0.9863\n",
            "Epoch 71/150\n",
            "6/6 [==============================] - 0s 3ms/step - loss: 0.0564 - accuracy: 0.9863\n",
            "Epoch 72/150\n",
            "6/6 [==============================] - 0s 3ms/step - loss: 0.0556 - accuracy: 0.9863\n",
            "Epoch 73/150\n",
            "6/6 [==============================] - 0s 3ms/step - loss: 0.0544 - accuracy: 0.9863\n",
            "Epoch 74/150\n",
            "6/6 [==============================] - 0s 3ms/step - loss: 0.0555 - accuracy: 0.9863\n",
            "Epoch 75/150\n",
            "6/6 [==============================] - 0s 3ms/step - loss: 0.0552 - accuracy: 0.9824\n",
            "Epoch 76/150\n",
            "6/6 [==============================] - 0s 3ms/step - loss: 0.0554 - accuracy: 0.9863\n",
            "Epoch 77/150\n",
            "6/6 [==============================] - 0s 3ms/step - loss: 0.0571 - accuracy: 0.9863\n",
            "Epoch 78/150\n",
            "6/6 [==============================] - 0s 3ms/step - loss: 0.0532 - accuracy: 0.9844\n",
            "Epoch 79/150\n",
            "6/6 [==============================] - 0s 3ms/step - loss: 0.0538 - accuracy: 0.9844\n",
            "Epoch 80/150\n",
            "6/6 [==============================] - 0s 3ms/step - loss: 0.0527 - accuracy: 0.9863\n",
            "Epoch 81/150\n",
            "6/6 [==============================] - 0s 3ms/step - loss: 0.0546 - accuracy: 0.9863\n",
            "Epoch 82/150\n",
            "6/6 [==============================] - 0s 3ms/step - loss: 0.0522 - accuracy: 0.9863\n",
            "Epoch 83/150\n",
            "6/6 [==============================] - 0s 3ms/step - loss: 0.0542 - accuracy: 0.9863\n",
            "Epoch 84/150\n",
            "6/6 [==============================] - 0s 3ms/step - loss: 0.0487 - accuracy: 0.9863\n",
            "Epoch 85/150\n",
            "6/6 [==============================] - 0s 3ms/step - loss: 0.0547 - accuracy: 0.9863\n",
            "Epoch 86/150\n",
            "6/6 [==============================] - 0s 3ms/step - loss: 0.0529 - accuracy: 0.9863\n",
            "Epoch 87/150\n",
            "6/6 [==============================] - 0s 3ms/step - loss: 0.0519 - accuracy: 0.9844\n",
            "Epoch 88/150\n",
            "6/6 [==============================] - 0s 3ms/step - loss: 0.0510 - accuracy: 0.9863\n",
            "Epoch 89/150\n",
            "6/6 [==============================] - 0s 3ms/step - loss: 0.0497 - accuracy: 0.9863\n",
            "Epoch 90/150\n",
            "6/6 [==============================] - 0s 5ms/step - loss: 0.0535 - accuracy: 0.9883\n",
            "Epoch 91/150\n",
            "6/6 [==============================] - 0s 3ms/step - loss: 0.0487 - accuracy: 0.9863\n",
            "Epoch 92/150\n",
            "6/6 [==============================] - 0s 3ms/step - loss: 0.0485 - accuracy: 0.9883\n",
            "Epoch 93/150\n",
            "6/6 [==============================] - 0s 3ms/step - loss: 0.0488 - accuracy: 0.9844\n",
            "Epoch 94/150\n",
            "6/6 [==============================] - 0s 3ms/step - loss: 0.0484 - accuracy: 0.9863\n",
            "Epoch 95/150\n",
            "6/6 [==============================] - 0s 3ms/step - loss: 0.0481 - accuracy: 0.9883\n",
            "Epoch 96/150\n",
            "6/6 [==============================] - 0s 3ms/step - loss: 0.0477 - accuracy: 0.9883\n",
            "Epoch 97/150\n",
            "6/6 [==============================] - 0s 3ms/step - loss: 0.0467 - accuracy: 0.9883\n",
            "Epoch 98/150\n",
            "6/6 [==============================] - 0s 3ms/step - loss: 0.0499 - accuracy: 0.9883\n",
            "Epoch 99/150\n",
            "6/6 [==============================] - 0s 3ms/step - loss: 0.0469 - accuracy: 0.9883\n",
            "Epoch 100/150\n",
            "6/6 [==============================] - 0s 3ms/step - loss: 0.0520 - accuracy: 0.9844\n",
            "Epoch 101/150\n",
            "6/6 [==============================] - 0s 3ms/step - loss: 0.0452 - accuracy: 0.9883\n",
            "Epoch 102/150\n",
            "6/6 [==============================] - 0s 3ms/step - loss: 0.0414 - accuracy: 0.9863\n",
            "Epoch 103/150\n",
            "6/6 [==============================] - 0s 4ms/step - loss: 0.0499 - accuracy: 0.9883\n",
            "Epoch 104/150\n",
            "6/6 [==============================] - 0s 3ms/step - loss: 0.0467 - accuracy: 0.9883\n",
            "Epoch 105/150\n",
            "6/6 [==============================] - 0s 3ms/step - loss: 0.0484 - accuracy: 0.9883\n",
            "Epoch 106/150\n",
            "6/6 [==============================] - 0s 3ms/step - loss: 0.0449 - accuracy: 0.9863\n",
            "Epoch 107/150\n",
            "6/6 [==============================] - 0s 3ms/step - loss: 0.0449 - accuracy: 0.9883\n",
            "Epoch 108/150\n",
            "6/6 [==============================] - 0s 3ms/step - loss: 0.0453 - accuracy: 0.9883\n",
            "Epoch 109/150\n",
            "6/6 [==============================] - 0s 3ms/step - loss: 0.0485 - accuracy: 0.9883\n",
            "Epoch 110/150\n",
            "6/6 [==============================] - 0s 3ms/step - loss: 0.0446 - accuracy: 0.9863\n",
            "Epoch 111/150\n",
            "6/6 [==============================] - 0s 3ms/step - loss: 0.0459 - accuracy: 0.9883\n",
            "Epoch 112/150\n",
            "6/6 [==============================] - 0s 3ms/step - loss: 0.0465 - accuracy: 0.9883\n",
            "Epoch 113/150\n",
            "6/6 [==============================] - 0s 3ms/step - loss: 0.0491 - accuracy: 0.9883\n",
            "Epoch 114/150\n",
            "6/6 [==============================] - 0s 3ms/step - loss: 0.0440 - accuracy: 0.9863\n",
            "Epoch 115/150\n",
            "6/6 [==============================] - 0s 3ms/step - loss: 0.0435 - accuracy: 0.9902\n",
            "Epoch 116/150\n",
            "6/6 [==============================] - 0s 3ms/step - loss: 0.0484 - accuracy: 0.9883\n",
            "Epoch 117/150\n",
            "6/6 [==============================] - 0s 3ms/step - loss: 0.0446 - accuracy: 0.9902\n",
            "Epoch 118/150\n",
            "6/6 [==============================] - 0s 3ms/step - loss: 0.0425 - accuracy: 0.9902\n",
            "Epoch 119/150\n",
            "6/6 [==============================] - 0s 3ms/step - loss: 0.0418 - accuracy: 0.9902\n",
            "Epoch 120/150\n",
            "6/6 [==============================] - 0s 3ms/step - loss: 0.0483 - accuracy: 0.9863\n",
            "Epoch 121/150\n",
            "6/6 [==============================] - 0s 3ms/step - loss: 0.0411 - accuracy: 0.9883\n",
            "Epoch 122/150\n",
            "6/6 [==============================] - 0s 3ms/step - loss: 0.0443 - accuracy: 0.9883\n",
            "Epoch 123/150\n",
            "6/6 [==============================] - 0s 3ms/step - loss: 0.0414 - accuracy: 0.9883\n",
            "Epoch 124/150\n",
            "6/6 [==============================] - 0s 3ms/step - loss: 0.0414 - accuracy: 0.9902\n",
            "Epoch 125/150\n",
            "6/6 [==============================] - 0s 3ms/step - loss: 0.0424 - accuracy: 0.9902\n",
            "Epoch 126/150\n",
            "6/6 [==============================] - 0s 3ms/step - loss: 0.0439 - accuracy: 0.9883\n",
            "Epoch 127/150\n",
            "6/6 [==============================] - 0s 4ms/step - loss: 0.0402 - accuracy: 0.9902\n",
            "Epoch 128/150\n",
            "6/6 [==============================] - 0s 3ms/step - loss: 0.0442 - accuracy: 0.9883\n",
            "Epoch 129/150\n",
            "6/6 [==============================] - 0s 3ms/step - loss: 0.0394 - accuracy: 0.9883\n",
            "Epoch 130/150\n",
            "6/6 [==============================] - 0s 4ms/step - loss: 0.0421 - accuracy: 0.9902\n",
            "Epoch 131/150\n",
            "6/6 [==============================] - 0s 5ms/step - loss: 0.0380 - accuracy: 0.9922\n",
            "Epoch 132/150\n",
            "6/6 [==============================] - 0s 5ms/step - loss: 0.0380 - accuracy: 0.9902\n",
            "Epoch 133/150\n",
            "6/6 [==============================] - 0s 4ms/step - loss: 0.0447 - accuracy: 0.9883\n",
            "Epoch 134/150\n",
            "6/6 [==============================] - 0s 4ms/step - loss: 0.0394 - accuracy: 0.9902\n",
            "Epoch 135/150\n",
            "6/6 [==============================] - 0s 4ms/step - loss: 0.0434 - accuracy: 0.9863\n",
            "Epoch 136/150\n",
            "6/6 [==============================] - 0s 4ms/step - loss: 0.0415 - accuracy: 0.9902\n",
            "Epoch 137/150\n",
            "6/6 [==============================] - 0s 4ms/step - loss: 0.0398 - accuracy: 0.9883\n",
            "Epoch 138/150\n",
            "6/6 [==============================] - 0s 4ms/step - loss: 0.0395 - accuracy: 0.9902\n",
            "Epoch 139/150\n",
            "6/6 [==============================] - 0s 4ms/step - loss: 0.0439 - accuracy: 0.9883\n",
            "Epoch 140/150\n",
            "6/6 [==============================] - 0s 4ms/step - loss: 0.0392 - accuracy: 0.9883\n",
            "Epoch 141/150\n",
            "6/6 [==============================] - 0s 5ms/step - loss: 0.0379 - accuracy: 0.9883\n",
            "Epoch 142/150\n",
            "6/6 [==============================] - 0s 4ms/step - loss: 0.0405 - accuracy: 0.9902\n",
            "Epoch 143/150\n",
            "6/6 [==============================] - 0s 4ms/step - loss: 0.0390 - accuracy: 0.9902\n",
            "Epoch 144/150\n",
            "6/6 [==============================] - 0s 4ms/step - loss: 0.0431 - accuracy: 0.9883\n",
            "Epoch 145/150\n",
            "6/6 [==============================] - 0s 4ms/step - loss: 0.0365 - accuracy: 0.9902\n",
            "Epoch 146/150\n",
            "6/6 [==============================] - 0s 4ms/step - loss: 0.0441 - accuracy: 0.9863\n",
            "Epoch 147/150\n",
            "6/6 [==============================] - 0s 4ms/step - loss: 0.0396 - accuracy: 0.9883\n",
            "Epoch 148/150\n",
            "6/6 [==============================] - 0s 4ms/step - loss: 0.0403 - accuracy: 0.9883\n",
            "Epoch 149/150\n",
            "6/6 [==============================] - 0s 4ms/step - loss: 0.0350 - accuracy: 0.9902\n",
            "Epoch 150/150\n",
            "6/6 [==============================] - 0s 5ms/step - loss: 0.0404 - accuracy: 0.9863\n"
          ]
        },
        {
          "output_type": "execute_result",
          "data": {
            "text/plain": [
              "<keras.callbacks.History at 0x7fc618e5e340>"
            ]
          },
          "metadata": {},
          "execution_count": 10
        }
      ]
    },
    {
      "cell_type": "code",
      "source": [
        "# Predicting the Test set results\n",
        "y_pred = classifier.predict(X_test)\n",
        "y_pred = (y_pred > 0.5)"
      ],
      "metadata": {
        "id": "tiDOdyDD3W7-",
        "colab": {
          "base_uri": "https://localhost:8080/"
        },
        "outputId": "1442ec54-0a16-4689-abd7-fe189e2e9a88"
      },
      "execution_count": 11,
      "outputs": [
        {
          "output_type": "stream",
          "name": "stdout",
          "text": [
            "2/2 [==============================] - 0s 5ms/step\n"
          ]
        }
      ]
    },
    {
      "cell_type": "code",
      "source": [
        "# Making the Confusion Matrix\n",
        "from sklearn.metrics import confusion_matrix\n",
        "cm = confusion_matrix(y_test, y_pred)\n",
        "cm"
      ],
      "metadata": {
        "id": "JBq4N1nH3ZlU",
        "colab": {
          "base_uri": "https://localhost:8080/"
        },
        "outputId": "82ff77f9-7390-41e3-d805-75cff33a300a"
      },
      "execution_count": 15,
      "outputs": [
        {
          "output_type": "execute_result",
          "data": {
            "text/plain": [
              "array([[35,  0],\n",
              "       [ 0, 22]])"
            ]
          },
          "metadata": {},
          "execution_count": 15
        }
      ]
    },
    {
      "cell_type": "code",
      "source": [
        "print(\"Our accuracy is {}%\".format(((cm[0][0] + cm[1][1])/57)*100))"
      ],
      "metadata": {
        "id": "a3u7djSS3cEr",
        "colab": {
          "base_uri": "https://localhost:8080/"
        },
        "outputId": "a49d7028-d42e-4de1-945b-afab70331927"
      },
      "execution_count": 13,
      "outputs": [
        {
          "output_type": "stream",
          "name": "stdout",
          "text": [
            "Our accuracy is 100.0%\n"
          ]
        }
      ]
    },
    {
      "cell_type": "code",
      "source": [
        "sns.heatmap(cm,annot=True)\n",
        "plt.savefig('h.png')"
      ],
      "metadata": {
        "id": "UlR5CLu63gK3",
        "colab": {
          "base_uri": "https://localhost:8080/",
          "height": 269
        },
        "outputId": "198347ab-1e10-4f7b-d18e-1c8040c2caa2"
      },
      "execution_count": 14,
      "outputs": [
        {
          "output_type": "display_data",
          "data": {
            "text/plain": [
              "<Figure size 432x288 with 2 Axes>"
            ],
            "image/png": "[encoded data removed]"
          },
          "metadata": {
            "needs_background": "light"
          }
        }
      ]
    }
  ]
}